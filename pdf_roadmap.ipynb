{
 "cells": [
  {
   "cell_type": "markdown",
   "id": "9b1ed377-e11d-4728-8847-b95c064d4561",
   "metadata": {},
   "source": [
    "# Rendered PDF of Roadmap"
   ]
  },
  {
   "cell_type": "code",
   "execution_count": 4,
   "id": "c3e1e707-1213-4674-a912-de85ba2fcbff",
   "metadata": {
    "editable": true,
    "slideshow": {
     "slide_type": ""
    },
    "tags": [
     "hide-input"
    ]
   },
   "outputs": [
    {
     "data": {
      "text/html": [
       "\n",
       "        <iframe\n",
       "            width=\"900\"\n",
       "            height=\"800\"\n",
       "            src=\"https://rawgit.com/ARM-Synergy/tracer-mip/main/TRACER-MIP-Roadmap-2025_March_20250719.pdf\"\n",
       "            frameborder=\"0\"\n",
       "            allowfullscreen\n",
       "            \n",
       "        ></iframe>\n",
       "        "
      ],
      "text/plain": [
       "<IPython.lib.display.IFrame at 0x109811940>"
      ]
     },
     "execution_count": 4,
     "metadata": {},
     "output_type": "execute_result"
    }
   ],
   "source": [
    "from IPython.display import IFrame\n",
    "IFrame(\"https://rawgit.com/ARM-Synergy/tracer-mip/main/TRACER-MIP-Roadmap-2025_March_20250719.pdf\", width=900, height=800)"
   ]
  },
  {
   "cell_type": "code",
   "execution_count": null,
   "id": "87a56742-ebf1-4494-8b0c-c7fbbf115ab5",
   "metadata": {
    "editable": true,
    "slideshow": {
     "slide_type": ""
    },
    "tags": []
   },
   "outputs": [],
   "source": []
  }
 ],
 "metadata": {
  "kernelspec": {
   "display_name": "Python 3 (ipykernel)",
   "language": "python",
   "name": "python3"
  },
  "language_info": {
   "codemirror_mode": {
    "name": "ipython",
    "version": 3
   },
   "file_extension": ".py",
   "mimetype": "text/x-python",
   "name": "python",
   "nbconvert_exporter": "python",
   "pygments_lexer": "ipython3",
   "version": "3.9.20"
  }
 },
 "nbformat": 4,
 "nbformat_minor": 5
}
